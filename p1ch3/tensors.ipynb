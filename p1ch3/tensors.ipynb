{
  "nbformat": 4,
  "nbformat_minor": 0,
  "metadata": {
    "colab": {
      "name": "tensors.ipynb",
      "provenance": [],
      "authorship_tag": "ABX9TyOy5zNN6oTzni8ZOSNzWKQW",
      "include_colab_link": true
    },
    "kernelspec": {
      "name": "python3",
      "display_name": "Python 3"
    }
  },
  "cells": [
    {
      "cell_type": "markdown",
      "metadata": {
        "id": "view-in-github",
        "colab_type": "text"
      },
      "source": [
        "<a href=\"https://colab.research.google.com/github/KabichNeu/Deep-Learning-with-Pytorch/blob/main/tensors.ipynb\" target=\"_parent\"><img src=\"https://colab.research.google.com/assets/colab-badge.svg\" alt=\"Open In Colab\"/></a>"
      ]
    },
    {
      "cell_type": "code",
      "metadata": {
        "colab": {
          "base_uri": "https://localhost:8080/"
        },
        "id": "Na3XCIPMxAKS",
        "outputId": "d419faa6-5033-4fa1-c803-72f5021f8a6c"
      },
      "source": [
        "import torch\n",
        "a = torch.ones(3)\n",
        "a"
      ],
      "execution_count": null,
      "outputs": [
        {
          "output_type": "execute_result",
          "data": {
            "text/plain": [
              "tensor([1., 1., 1.])"
            ]
          },
          "metadata": {
            "tags": []
          },
          "execution_count": 1
        }
      ]
    },
    {
      "cell_type": "code",
      "metadata": {
        "id": "L_gpfF2_xQza"
      },
      "source": [
        "points = torch.zeros(6)\n",
        "points[0] = 4.0\n",
        "points[1] = 1.0\n",
        "points[2] = 5.0\n",
        "points[3] = 3.0\n",
        "points[4] = 4.0\n",
        "points[5] = 2.0"
      ],
      "execution_count": null,
      "outputs": []
    },
    {
      "cell_type": "code",
      "metadata": {
        "colab": {
          "base_uri": "https://localhost:8080/"
        },
        "id": "RGQgto1hy_PN",
        "outputId": "c2c67baa-cc97-4477-915e-18392af516ac"
      },
      "source": [
        "points = torch.tensor([4.0, 1.0, 5.0, 3.0, 4.0, 2.0 ])\n",
        "points"
      ],
      "execution_count": null,
      "outputs": [
        {
          "output_type": "execute_result",
          "data": {
            "text/plain": [
              "tensor([4., 1., 5., 3., 4., 2.])"
            ]
          },
          "metadata": {
            "tags": []
          },
          "execution_count": 3
        }
      ]
    },
    {
      "cell_type": "code",
      "metadata": {
        "colab": {
          "base_uri": "https://localhost:8080/"
        },
        "id": "4ZTONJOwzPpG",
        "outputId": "cf30c04f-9409-4941-8cad-d03f7fe94d39"
      },
      "source": [
        "float(points[0]), float(points[1])"
      ],
      "execution_count": null,
      "outputs": [
        {
          "output_type": "execute_result",
          "data": {
            "text/plain": [
              "(4.0, 1.0)"
            ]
          },
          "metadata": {
            "tags": []
          },
          "execution_count": 4
        }
      ]
    },
    {
      "cell_type": "code",
      "metadata": {
        "colab": {
          "base_uri": "https://localhost:8080/"
        },
        "id": "7PAjvaHAzXYd",
        "outputId": "128281a2-7830-4a93-dddd-98a6a85e5785"
      },
      "source": [
        "points = torch.tensor([[4.0, 1.0], [5.0, 3.0], [2.0, 1.0]])\n",
        "points"
      ],
      "execution_count": null,
      "outputs": [
        {
          "output_type": "execute_result",
          "data": {
            "text/plain": [
              "tensor([[4., 1.],\n",
              "        [5., 3.],\n",
              "        [2., 1.]])"
            ]
          },
          "metadata": {
            "tags": []
          },
          "execution_count": 5
        }
      ]
    },
    {
      "cell_type": "code",
      "metadata": {
        "colab": {
          "base_uri": "https://localhost:8080/"
        },
        "id": "76_sq8syzeZs",
        "outputId": "5615d255-7e83-4615-884d-ec635a20b63d"
      },
      "source": [
        "points.shape"
      ],
      "execution_count": null,
      "outputs": [
        {
          "output_type": "execute_result",
          "data": {
            "text/plain": [
              "torch.Size([3, 2])"
            ]
          },
          "metadata": {
            "tags": []
          },
          "execution_count": 6
        }
      ]
    },
    {
      "cell_type": "code",
      "metadata": {
        "colab": {
          "base_uri": "https://localhost:8080/"
        },
        "id": "xoDZXVogzkAE",
        "outputId": "9df8371f-3751-41a1-ade5-1ca49da0a8c9"
      },
      "source": [
        "torch.Size([3, 2])"
      ],
      "execution_count": null,
      "outputs": [
        {
          "output_type": "execute_result",
          "data": {
            "text/plain": [
              "torch.Size([3, 2])"
            ]
          },
          "metadata": {
            "tags": []
          },
          "execution_count": 7
        }
      ]
    },
    {
      "cell_type": "code",
      "metadata": {
        "id": "EBTiSK1BzmN1"
      },
      "source": [
        "points = torch.zeros(3, 2)"
      ],
      "execution_count": null,
      "outputs": []
    },
    {
      "cell_type": "code",
      "metadata": {
        "colab": {
          "base_uri": "https://localhost:8080/"
        },
        "id": "sD1wO6-fzon-",
        "outputId": "3aefe643-1443-40f1-d452-13c537c0dded"
      },
      "source": [
        "points"
      ],
      "execution_count": null,
      "outputs": [
        {
          "output_type": "execute_result",
          "data": {
            "text/plain": [
              "tensor([[0., 0.],\n",
              "        [0., 0.],\n",
              "        [0., 0.]])"
            ]
          },
          "metadata": {
            "tags": []
          },
          "execution_count": 9
        }
      ]
    },
    {
      "cell_type": "code",
      "metadata": {
        "colab": {
          "base_uri": "https://localhost:8080/"
        },
        "id": "J6hJSXDgzp9M",
        "outputId": "da4d396c-623a-4c46-b3ca-78b6237030bb"
      },
      "source": [
        "points = torch.tensor([[4.0, 1.0], [5.0, 3.0], [2.0, 1.0]])\n",
        "points"
      ],
      "execution_count": null,
      "outputs": [
        {
          "output_type": "execute_result",
          "data": {
            "text/plain": [
              "tensor([[4., 1.],\n",
              "        [5., 3.],\n",
              "        [2., 1.]])"
            ]
          },
          "metadata": {
            "tags": []
          },
          "execution_count": 10
        }
      ]
    },
    {
      "cell_type": "code",
      "metadata": {
        "colab": {
          "base_uri": "https://localhost:8080/"
        },
        "id": "ii3wcu5hzvVN",
        "outputId": "d60ac87b-e0c5-4b8e-95a6-66c32d6cbfa5"
      },
      "source": [
        "points[0,1]"
      ],
      "execution_count": null,
      "outputs": [
        {
          "output_type": "execute_result",
          "data": {
            "text/plain": [
              "tensor(1.)"
            ]
          },
          "metadata": {
            "tags": []
          },
          "execution_count": 11
        }
      ]
    },
    {
      "cell_type": "code",
      "metadata": {
        "colab": {
          "base_uri": "https://localhost:8080/"
        },
        "id": "kWv_-wZnzyGW",
        "outputId": "9fe14017-b4d7-4cb3-de0d-15e390386369"
      },
      "source": [
        "some_list = list(range(6))\n",
        "some_list[:]"
      ],
      "execution_count": null,
      "outputs": [
        {
          "output_type": "execute_result",
          "data": {
            "text/plain": [
              "[0, 1, 2, 3, 4, 5]"
            ]
          },
          "metadata": {
            "tags": []
          },
          "execution_count": 13
        }
      ]
    },
    {
      "cell_type": "code",
      "metadata": {
        "colab": {
          "base_uri": "https://localhost:8080/"
        },
        "id": "awuE8u-R0Cxg",
        "outputId": "e0c31254-0c50-4142-eb8c-6b071ad4bc77"
      },
      "source": [
        "some_list[:]"
      ],
      "execution_count": null,
      "outputs": [
        {
          "output_type": "execute_result",
          "data": {
            "text/plain": [
              "[0, 1, 2, 3, 4, 5]"
            ]
          },
          "metadata": {
            "tags": []
          },
          "execution_count": 14
        }
      ]
    },
    {
      "cell_type": "code",
      "metadata": {
        "colab": {
          "base_uri": "https://localhost:8080/"
        },
        "id": "rN-LJcmt0JBG",
        "outputId": "0f48e167-88b3-42b7-abc8-3e54d52ba920"
      },
      "source": [
        "some_list[1:4]"
      ],
      "execution_count": null,
      "outputs": [
        {
          "output_type": "execute_result",
          "data": {
            "text/plain": [
              "[1, 2, 3]"
            ]
          },
          "metadata": {
            "tags": []
          },
          "execution_count": 15
        }
      ]
    },
    {
      "cell_type": "code",
      "metadata": {
        "colab": {
          "base_uri": "https://localhost:8080/"
        },
        "id": "EHXjYuKp0LUG",
        "outputId": "a68a4ac2-9151-4c67-d53c-bab0ccfa4ef5"
      },
      "source": [
        "some_list[1:]"
      ],
      "execution_count": null,
      "outputs": [
        {
          "output_type": "execute_result",
          "data": {
            "text/plain": [
              "[1, 2, 3, 4, 5]"
            ]
          },
          "metadata": {
            "tags": []
          },
          "execution_count": 16
        }
      ]
    },
    {
      "cell_type": "code",
      "metadata": {
        "colab": {
          "base_uri": "https://localhost:8080/"
        },
        "id": "NMk6y5rS0ahY",
        "outputId": "79ba988c-c48b-4677-e065-dfb10ad0aead"
      },
      "source": [
        "some_list[:4]"
      ],
      "execution_count": null,
      "outputs": [
        {
          "output_type": "execute_result",
          "data": {
            "text/plain": [
              "[0, 1, 2, 3]"
            ]
          },
          "metadata": {
            "tags": []
          },
          "execution_count": 17
        }
      ]
    },
    {
      "cell_type": "code",
      "metadata": {
        "colab": {
          "base_uri": "https://localhost:8080/"
        },
        "id": "QGYFYYwA0oqE",
        "outputId": "745aa970-a6ff-477b-a6c3-b4041cbd4662"
      },
      "source": [
        "some_list[:-1]"
      ],
      "execution_count": null,
      "outputs": [
        {
          "output_type": "execute_result",
          "data": {
            "text/plain": [
              "[0, 1, 2, 3, 4]"
            ]
          },
          "metadata": {
            "tags": []
          },
          "execution_count": 18
        }
      ]
    },
    {
      "cell_type": "code",
      "metadata": {
        "colab": {
          "base_uri": "https://localhost:8080/"
        },
        "id": "YVZWNmEh0vkA",
        "outputId": "39cd8f8e-5385-4d46-d442-d3ae7f8e44e6"
      },
      "source": [
        "some_list[1:4:2]"
      ],
      "execution_count": null,
      "outputs": [
        {
          "output_type": "execute_result",
          "data": {
            "text/plain": [
              "[1, 3]"
            ]
          },
          "metadata": {
            "tags": []
          },
          "execution_count": 19
        }
      ]
    },
    {
      "cell_type": "code",
      "metadata": {
        "colab": {
          "base_uri": "https://localhost:8080/"
        },
        "id": "fcfs94GY04W2",
        "outputId": "8e9d40ed-cea5-4f7b-fe35-cf97e5566b90"
      },
      "source": [
        "points[1:]"
      ],
      "execution_count": null,
      "outputs": [
        {
          "output_type": "execute_result",
          "data": {
            "text/plain": [
              "tensor([[5., 3.],\n",
              "        [2., 1.]])"
            ]
          },
          "metadata": {
            "tags": []
          },
          "execution_count": 20
        }
      ]
    },
    {
      "cell_type": "code",
      "metadata": {
        "colab": {
          "base_uri": "https://localhost:8080/"
        },
        "id": "hkjHGSOf09Pd",
        "outputId": "ecc8d2b9-fde5-4411-8d88-aa70fb687511"
      },
      "source": [
        "points[1:,:]"
      ],
      "execution_count": null,
      "outputs": [
        {
          "output_type": "execute_result",
          "data": {
            "text/plain": [
              "tensor([[5., 3.],\n",
              "        [2., 1.]])"
            ]
          },
          "metadata": {
            "tags": []
          },
          "execution_count": 21
        }
      ]
    },
    {
      "cell_type": "code",
      "metadata": {
        "colab": {
          "base_uri": "https://localhost:8080/"
        },
        "id": "2-smd0K50-un",
        "outputId": "2b23d2cd-5aea-4019-8228-7387cb98e58c"
      },
      "source": [
        "points[1:,0]"
      ],
      "execution_count": null,
      "outputs": [
        {
          "output_type": "execute_result",
          "data": {
            "text/plain": [
              "tensor([5., 2.])"
            ]
          },
          "metadata": {
            "tags": []
          },
          "execution_count": 22
        }
      ]
    },
    {
      "cell_type": "code",
      "metadata": {
        "colab": {
          "base_uri": "https://localhost:8080/"
        },
        "id": "4Qwgta2C1RIv",
        "outputId": "9b0e9bc0-95b1-4344-bb85-cebe74000afe"
      },
      "source": [
        "points[None]"
      ],
      "execution_count": null,
      "outputs": [
        {
          "output_type": "execute_result",
          "data": {
            "text/plain": [
              "tensor([[[4., 1.],\n",
              "         [5., 3.],\n",
              "         [2., 1.]]])"
            ]
          },
          "metadata": {
            "tags": []
          },
          "execution_count": 23
        }
      ]
    },
    {
      "cell_type": "code",
      "metadata": {
        "id": "rRn38_zp1YMB"
      },
      "source": [
        "#named tensors"
      ],
      "execution_count": null,
      "outputs": []
    },
    {
      "cell_type": "code",
      "metadata": {
        "id": "nVkQf9xF14Ic"
      },
      "source": [
        "img_t = torch.randn(3,5,5)     #shape [channels, rows, columns]\n",
        "weights = torch.tensor([0.2126, 0.7152, 0.0722])"
      ],
      "execution_count": null,
      "outputs": []
    },
    {
      "cell_type": "code",
      "metadata": {
        "colab": {
          "base_uri": "https://localhost:8080/"
        },
        "id": "RsXuYK7x2IOb",
        "outputId": "8b88c527-0f02-42ae-95d3-141d3ac6684a"
      },
      "source": [
        "weights"
      ],
      "execution_count": null,
      "outputs": [
        {
          "output_type": "execute_result",
          "data": {
            "text/plain": [
              "tensor([0.2126, 0.7152, 0.0722])"
            ]
          },
          "metadata": {
            "tags": []
          },
          "execution_count": 26
        }
      ]
    },
    {
      "cell_type": "code",
      "metadata": {
        "id": "DC2Kbyod2JXJ"
      },
      "source": [
        "batch_t = torch.randn(2, 3, 5, 5) # shape [batch, channels, rows, columns]"
      ],
      "execution_count": null,
      "outputs": []
    },
    {
      "cell_type": "code",
      "metadata": {
        "colab": {
          "base_uri": "https://localhost:8080/"
        },
        "id": "JNK5Nn6G2VzF",
        "outputId": "f78e5f63-8670-4186-e253-b5b40f8b63bf"
      },
      "source": [
        "batch_t"
      ],
      "execution_count": null,
      "outputs": [
        {
          "output_type": "execute_result",
          "data": {
            "text/plain": [
              "tensor([[[[-1.0953e+00, -6.5561e-01, -9.6715e-01,  9.0681e-01,  8.5088e-01],\n",
              "          [ 8.7646e-02,  1.3453e+00,  2.0663e-01, -1.1431e+00,  1.0181e-01],\n",
              "          [-8.6459e-01, -5.2628e-01, -1.6267e+00, -6.8708e-01,  2.6783e+00],\n",
              "          [ 9.0820e-03, -1.6630e-01,  6.6823e-01,  1.8339e-01,  9.1383e-01],\n",
              "          [ 6.3329e-01,  3.4878e-01, -2.1296e-01, -4.6035e-01, -1.1840e+00]],\n",
              "\n",
              "         [[-4.1466e+00,  5.8014e-01, -2.3229e+00,  1.5792e+00, -1.1647e+00],\n",
              "          [ 1.3202e+00, -9.6170e-01,  8.0649e-01,  1.1667e+00, -2.1222e+00],\n",
              "          [-3.9483e-01,  1.0011e+00,  5.1946e-01,  2.9938e-02, -8.9928e-01],\n",
              "          [ 5.0443e-01,  6.7464e-01, -2.1096e-02,  1.2518e+00, -1.8066e+00],\n",
              "          [ 4.5830e-02,  9.6847e-01,  8.0153e-01, -2.2291e-01,  1.5157e+00]],\n",
              "\n",
              "         [[-1.9961e-01, -1.4214e+00,  7.6569e-01, -7.0517e-01, -9.2171e-01],\n",
              "          [ 1.3612e-01,  1.1591e+00,  3.8927e-01, -5.6957e-01, -4.0267e-02],\n",
              "          [ 7.8979e-01,  1.1372e+00,  5.4879e-01, -9.5862e-04,  4.6170e-02],\n",
              "          [ 3.6403e-01,  6.1891e-01, -5.6537e-01, -5.2894e-01, -5.8188e-01],\n",
              "          [-8.2112e-01, -9.3149e-01,  1.6896e-01, -1.2469e+00,  1.2245e+00]]],\n",
              "\n",
              "\n",
              "        [[[-1.0176e-01,  3.9902e-01,  7.2520e-01, -1.4461e+00, -7.3669e-01],\n",
              "          [ 1.1219e+00, -1.0242e-01, -1.4790e+00, -2.9371e+00,  3.2682e-01],\n",
              "          [ 3.0760e-01,  2.0081e-02, -1.8391e+00, -1.7507e+00, -9.9471e-01],\n",
              "          [ 5.5623e-01,  1.6263e+00, -2.0178e+00, -2.6642e-01, -1.9097e+00],\n",
              "          [ 6.1667e-01, -9.0661e-01,  7.1698e-01, -5.8209e-01, -1.8994e+00]],\n",
              "\n",
              "         [[ 9.5042e-02, -1.7138e+00,  1.5394e+00,  1.3656e-01,  8.2208e-01],\n",
              "          [ 2.0922e-02,  3.2919e-01,  8.1169e-01,  5.1900e-01,  2.1475e-01],\n",
              "          [ 4.0800e-01, -7.1910e-01,  1.3247e+00, -1.1347e+00,  1.7058e+00],\n",
              "          [ 3.1554e-01,  1.5421e+00, -3.4678e-01, -7.0842e-01,  4.8189e-01],\n",
              "          [-2.1725e-01, -1.3701e+00,  1.1926e+00, -2.4068e-01, -1.2794e+00]],\n",
              "\n",
              "         [[-2.1010e-01,  3.8237e-01,  2.6539e-01, -5.6854e-03, -3.4088e-01],\n",
              "          [-2.2266e+00,  1.5838e+00,  1.7022e+00, -6.7173e-01, -8.5641e-01],\n",
              "          [ 1.4199e+00, -7.0094e-01,  9.9477e-01,  3.2846e-01, -7.9272e-01],\n",
              "          [-1.5008e+00, -7.6841e-01,  4.8972e-01,  1.6398e+00, -1.5451e+00],\n",
              "          [-1.8502e+00,  3.4785e-02, -9.3166e-01, -9.4908e-01, -1.3880e+00]]]])"
            ]
          },
          "metadata": {
            "tags": []
          },
          "execution_count": 28
        }
      ]
    },
    {
      "cell_type": "code",
      "metadata": {
        "colab": {
          "base_uri": "https://localhost:8080/"
        },
        "id": "QRIcjuWR2W2K",
        "outputId": "5e1b44a0-5ffa-4d4b-ac95-0b02db8040ca"
      },
      "source": [
        "img_gray_naive = img_t.mean(-3)\n",
        "batch_gray_naive = batch_t.mean(-3)\n",
        "img_gray_naive.shape, batch_gray_naive.shape"
      ],
      "execution_count": null,
      "outputs": [
        {
          "output_type": "execute_result",
          "data": {
            "text/plain": [
              "(torch.Size([5, 5]), torch.Size([2, 5, 5]))"
            ]
          },
          "metadata": {
            "tags": []
          },
          "execution_count": 30
        }
      ]
    },
    {
      "cell_type": "code",
      "metadata": {
        "colab": {
          "base_uri": "https://localhost:8080/"
        },
        "id": "Um6Lqaz03UHs",
        "outputId": "3ef3260c-bf88-4ab4-d94e-1c9694ae4782"
      },
      "source": [
        "img_gray_naive"
      ],
      "execution_count": null,
      "outputs": [
        {
          "output_type": "execute_result",
          "data": {
            "text/plain": [
              "tensor([[ 0.3035, -1.1056, -0.0505,  0.3001,  1.0878],\n",
              "        [ 0.8350, -1.0942, -0.0632, -0.6412,  0.0816],\n",
              "        [-0.2070, -0.3575, -0.3154, -0.1064, -0.0751],\n",
              "        [-0.5918,  0.2373, -1.1803,  0.3372, -0.2006],\n",
              "        [ 0.4775,  0.1566, -0.4378,  0.1607, -1.3698]])"
            ]
          },
          "metadata": {
            "tags": []
          },
          "execution_count": 31
        }
      ]
    },
    {
      "cell_type": "code",
      "metadata": {
        "colab": {
          "base_uri": "https://localhost:8080/"
        },
        "id": "cxSTXk8z3mvn",
        "outputId": "b013e7a3-bad8-494a-a185-728958f22d5a"
      },
      "source": [
        "img_t"
      ],
      "execution_count": null,
      "outputs": [
        {
          "output_type": "execute_result",
          "data": {
            "text/plain": [
              "tensor([[[ 0.3356, -0.8368,  0.9585,  0.3107,  1.1607],\n",
              "         [ 0.7640, -2.4406,  0.5948, -0.0535,  0.9515],\n",
              "         [ 0.6793, -2.6207, -0.1811,  0.3999, -1.3563],\n",
              "         [-2.0746, -0.7560, -1.4531,  0.7284,  1.5534],\n",
              "         [ 0.0893, -0.1462, -1.1186, -0.4207, -1.9426]],\n",
              "\n",
              "        [[-0.0795, -1.9646,  0.4900,  0.6147, -0.1530],\n",
              "         [ 1.2396,  0.5299, -0.9229, -0.5191,  0.0099],\n",
              "         [-1.0873,  0.4859, -0.0771, -0.3918,  0.1291],\n",
              "         [-0.1759, -0.3543, -1.6640,  0.8235, -0.1571],\n",
              "         [ 1.3481,  1.1867, -0.6317,  0.6567, -2.7418]],\n",
              "\n",
              "        [[ 0.6545, -0.5155, -1.6000, -0.0249,  2.2556],\n",
              "         [ 0.5014, -1.3717,  0.1384, -1.3508, -0.7166],\n",
              "         [-0.2129,  1.0622, -0.6879, -0.3271,  1.0020],\n",
              "         [ 0.4752,  1.8221, -0.4238, -0.5404, -1.9981],\n",
              "         [-0.0050, -0.5706,  0.4367,  0.2462,  0.5751]]])"
            ]
          },
          "metadata": {
            "tags": []
          },
          "execution_count": 32
        }
      ]
    },
    {
      "cell_type": "code",
      "metadata": {
        "colab": {
          "base_uri": "https://localhost:8080/"
        },
        "id": "kR1cY-Vd-L6x",
        "outputId": "97543541-67e4-4347-9314-6670b78024dc"
      },
      "source": [
        "unsqueezed_weights = weights.unsqueeze(-1).unsqueeze_(-1)\n",
        "img_weights = (img_t * unsqueezed_weights)\n",
        "batch_weights = (batch_t * unsqueezed_weights)\n",
        "img_gray_weighted = img_weights.sum(-3)\n",
        "batch_gray_weighted = batch_weights.sum(-3)\n",
        "batch_weights.shape, batch_t.shape, unsqueezed_weights.shape"
      ],
      "execution_count": null,
      "outputs": [
        {
          "output_type": "execute_result",
          "data": {
            "text/plain": [
              "(torch.Size([2, 3, 5, 5]), torch.Size([2, 3, 5, 5]), torch.Size([3, 1, 1]))"
            ]
          },
          "metadata": {
            "tags": []
          },
          "execution_count": 33
        }
      ]
    },
    {
      "cell_type": "code",
      "metadata": {
        "colab": {
          "base_uri": "https://localhost:8080/"
        },
        "id": "Do3mIc5PBqq6",
        "outputId": "af273c45-1454-47f9-c231-ed916750b2e3"
      },
      "source": [
        "unsqueezed_weights"
      ],
      "execution_count": null,
      "outputs": [
        {
          "output_type": "execute_result",
          "data": {
            "text/plain": [
              "tensor([[[0.2126]],\n",
              "\n",
              "        [[0.7152]],\n",
              "\n",
              "        [[0.0722]]])"
            ]
          },
          "metadata": {
            "tags": []
          },
          "execution_count": 34
        }
      ]
    },
    {
      "cell_type": "code",
      "metadata": {
        "colab": {
          "base_uri": "https://localhost:8080/"
        },
        "id": "4qDEJ0_6BuJi",
        "outputId": "18542466-510b-4ebf-d9d0-a4cc0978a88b"
      },
      "source": [
        "img_weights"
      ],
      "execution_count": null,
      "outputs": [
        {
          "output_type": "execute_result",
          "data": {
            "text/plain": [
              "tensor([[[ 7.1343e-02, -1.7791e-01,  2.0377e-01,  6.6046e-02,  2.4676e-01],\n",
              "         [ 1.6242e-01, -5.1888e-01,  1.2645e-01, -1.1381e-02,  2.0228e-01],\n",
              "         [ 1.4441e-01, -5.5716e-01, -3.8508e-02,  8.5018e-02, -2.8835e-01],\n",
              "         [-4.4107e-01, -1.6072e-01, -3.0893e-01,  1.5487e-01,  3.3025e-01],\n",
              "         [ 1.8982e-02, -3.1076e-02, -2.3781e-01, -8.9447e-02, -4.1300e-01]],\n",
              "\n",
              "        [[-5.6860e-02, -1.4051e+00,  3.5048e-01,  4.3961e-01, -1.0941e-01],\n",
              "         [ 8.8654e-01,  3.7898e-01, -6.6002e-01, -3.7124e-01,  7.0909e-03],\n",
              "         [-7.7761e-01,  3.4749e-01, -5.5165e-02, -2.8024e-01,  9.2330e-02],\n",
              "         [-1.2579e-01, -2.5339e-01, -1.1901e+00,  5.8899e-01, -1.1233e-01],\n",
              "         [ 9.6418e-01,  8.4872e-01, -4.5179e-01,  4.6964e-01, -1.9610e+00]],\n",
              "\n",
              "        [[ 4.7257e-02, -3.7219e-02, -1.1552e-01, -1.8010e-03,  1.6285e-01],\n",
              "         [ 3.6200e-02, -9.9040e-02,  9.9915e-03, -9.7531e-02, -5.1739e-02],\n",
              "         [-1.5374e-02,  7.6694e-02, -4.9663e-02, -2.3618e-02,  7.2341e-02],\n",
              "         [ 3.4310e-02,  1.3156e-01, -3.0596e-02, -3.9018e-02, -1.4426e-01],\n",
              "         [-3.6273e-04, -4.1197e-02,  3.1531e-02,  1.7775e-02,  4.1523e-02]]])"
            ]
          },
          "metadata": {
            "tags": []
          },
          "execution_count": 35
        }
      ]
    },
    {
      "cell_type": "code",
      "metadata": {
        "colab": {
          "base_uri": "https://localhost:8080/"
        },
        "id": "p5jn6wMqBym4",
        "outputId": "176c63c6-581e-4ace-ffb3-55f761670502"
      },
      "source": [
        "batch_weights"
      ],
      "execution_count": null,
      "outputs": [
        {
          "output_type": "execute_result",
          "data": {
            "text/plain": [
              "tensor([[[[-2.3286e-01, -1.3938e-01, -2.0562e-01,  1.9279e-01,  1.8090e-01],\n",
              "          [ 1.8634e-02,  2.8601e-01,  4.3930e-02, -2.4302e-01,  2.1645e-02],\n",
              "          [-1.8381e-01, -1.1189e-01, -3.4584e-01, -1.4607e-01,  5.6940e-01],\n",
              "          [ 1.9308e-03, -3.5355e-02,  1.4207e-01,  3.8988e-02,  1.9428e-01],\n",
              "          [ 1.3464e-01,  7.4151e-02, -4.5275e-02, -9.7870e-02, -2.5173e-01]],\n",
              "\n",
              "         [[-2.9656e+00,  4.1492e-01, -1.6614e+00,  1.1295e+00, -8.3300e-01],\n",
              "          [ 9.4421e-01, -6.8781e-01,  5.7680e-01,  8.3446e-01, -1.5178e+00],\n",
              "          [-2.8238e-01,  7.1600e-01,  3.7152e-01,  2.1412e-02, -6.4317e-01],\n",
              "          [ 3.6077e-01,  4.8250e-01, -1.5088e-02,  8.9529e-01, -1.2921e+00],\n",
              "          [ 3.2778e-02,  6.9265e-01,  5.7325e-01, -1.5943e-01,  1.0841e+00]],\n",
              "\n",
              "         [[-1.4412e-02, -1.0262e-01,  5.5283e-02, -5.0913e-02, -6.6547e-02],\n",
              "          [ 9.8280e-03,  8.3684e-02,  2.8105e-02, -4.1123e-02, -2.9073e-03],\n",
              "          [ 5.7023e-02,  8.2106e-02,  3.9623e-02, -6.9212e-05,  3.3335e-03],\n",
              "          [ 2.6283e-02,  4.4685e-02, -4.0819e-02, -3.8190e-02, -4.2012e-02],\n",
              "          [-5.9285e-02, -6.7254e-02,  1.2199e-02, -9.0027e-02,  8.8412e-02]]],\n",
              "\n",
              "\n",
              "        [[[-2.1634e-02,  8.4832e-02,  1.5418e-01, -3.0744e-01, -1.5662e-01],\n",
              "          [ 2.3851e-01, -2.1775e-02, -3.1443e-01, -6.2444e-01,  6.9483e-02],\n",
              "          [ 6.5397e-02,  4.2692e-03, -3.9099e-01, -3.7219e-01, -2.1148e-01],\n",
              "          [ 1.1825e-01,  3.4574e-01, -4.2898e-01, -5.6641e-02, -4.0601e-01],\n",
              "          [ 1.3110e-01, -1.9274e-01,  1.5243e-01, -1.2375e-01, -4.0381e-01]],\n",
              "\n",
              "         [[ 6.7974e-02, -1.2257e+00,  1.1010e+00,  9.7669e-02,  5.8795e-01],\n",
              "          [ 1.4963e-02,  2.3543e-01,  5.8052e-01,  3.7119e-01,  1.5359e-01],\n",
              "          [ 2.9180e-01, -5.1430e-01,  9.4743e-01, -8.1156e-01,  1.2200e+00],\n",
              "          [ 2.2567e-01,  1.1029e+00, -2.4802e-01, -5.0666e-01,  3.4465e-01],\n",
              "          [-1.5538e-01, -9.7991e-01,  8.5294e-01, -1.7213e-01, -9.1504e-01]],\n",
              "\n",
              "         [[-1.5170e-02,  2.7607e-02,  1.9161e-02, -4.1048e-04, -2.4611e-02],\n",
              "          [-1.6076e-01,  1.1435e-01,  1.2290e-01, -4.8499e-02, -6.1833e-02],\n",
              "          [ 1.0251e-01, -5.0608e-02,  7.1822e-02,  2.3714e-02, -5.7234e-02],\n",
              "          [-1.0836e-01, -5.5479e-02,  3.5358e-02,  1.1839e-01, -1.1156e-01],\n",
              "          [-1.3359e-01,  2.5115e-03, -6.7266e-02, -6.8524e-02, -1.0021e-01]]]])"
            ]
          },
          "metadata": {
            "tags": []
          },
          "execution_count": 36
        }
      ]
    },
    {
      "cell_type": "code",
      "metadata": {
        "colab": {
          "base_uri": "https://localhost:8080/"
        },
        "id": "h9HigB_7B0up",
        "outputId": "189cd9d5-c745-464a-de6a-93052bc5cf0f"
      },
      "source": [
        "img_gray_weighted"
      ],
      "execution_count": null,
      "outputs": [
        {
          "output_type": "execute_result",
          "data": {
            "text/plain": [
              "tensor([[ 0.0617, -1.6202,  0.4387,  0.5039,  0.3002],\n",
              "        [ 1.0852, -0.2389, -0.5236, -0.4802,  0.1576],\n",
              "        [-0.6486, -0.1330, -0.1433, -0.2188, -0.1237],\n",
              "        [-0.5325, -0.2826, -1.5296,  0.7048,  0.0737],\n",
              "        [ 0.9828,  0.7764, -0.6581,  0.3980, -2.3324]])"
            ]
          },
          "metadata": {
            "tags": []
          },
          "execution_count": 37
        }
      ]
    },
    {
      "cell_type": "code",
      "metadata": {
        "colab": {
          "base_uri": "https://localhost:8080/"
        },
        "id": "wQJbsMGtB3L3",
        "outputId": "c8aa6331-0bd6-4bd1-8d12-df756143bf6a"
      },
      "source": [
        "batch_gray_weighted"
      ],
      "execution_count": null,
      "outputs": [
        {
          "output_type": "execute_result",
          "data": {
            "text/plain": [
              "tensor([[[-3.2129,  0.1729, -1.8117,  1.2714, -0.7187],\n",
              "         [ 0.9727, -0.3181,  0.6488,  0.5503, -1.4991],\n",
              "         [-0.4092,  0.6862,  0.0653, -0.1247, -0.0704],\n",
              "         [ 0.3890,  0.4918,  0.0862,  0.8961, -1.1398],\n",
              "         [ 0.1081,  0.6995,  0.5402, -0.3473,  0.9207]],\n",
              "\n",
              "        [[ 0.0312, -1.1133,  1.2743, -0.2102,  0.4067],\n",
              "         [ 0.0927,  0.3280,  0.3890, -0.3017,  0.1612],\n",
              "         [ 0.4597, -0.5606,  0.6283, -1.1600,  0.9513],\n",
              "         [ 0.2356,  1.3932, -0.6416, -0.4449, -0.1729],\n",
              "         [-0.1579, -1.1701,  0.9381, -0.3644, -1.4191]]])"
            ]
          },
          "metadata": {
            "tags": []
          },
          "execution_count": 38
        }
      ]
    },
    {
      "cell_type": "code",
      "metadata": {
        "colab": {
          "base_uri": "https://localhost:8080/"
        },
        "id": "8aqj4OpBB5_L",
        "outputId": "fc76d599-ba5b-45e5-e438-650b01787acd"
      },
      "source": [
        "weights_named = torch.tensor([0.2126, 0.7152, 0.0722], names = ['channels'])\n",
        "weights_named"
      ],
      "execution_count": null,
      "outputs": [
        {
          "output_type": "stream",
          "text": [
            "/usr/local/lib/python3.6/dist-packages/ipykernel_launcher.py:1: UserWarning: Named tensors and all their associated APIs are an experimental feature and subject to change. Please do not use them for anything important until they are released as stable. (Triggered internally at  /pytorch/c10/core/TensorImpl.h:848.)\n",
            "  \"\"\"Entry point for launching an IPython kernel.\n"
          ],
          "name": "stderr"
        },
        {
          "output_type": "execute_result",
          "data": {
            "text/plain": [
              "tensor([0.2126, 0.7152, 0.0722], names=('channels',))"
            ]
          },
          "metadata": {
            "tags": []
          },
          "execution_count": 39
        }
      ]
    },
    {
      "cell_type": "code",
      "metadata": {
        "id": "EIV-3SQlFHyP"
      },
      "source": [
        "#When we already have a tensor and want to add names (but not change existing ones), we can call the method refine_names on it."
      ],
      "execution_count": null,
      "outputs": []
    },
    {
      "cell_type": "code",
      "metadata": {
        "colab": {
          "base_uri": "https://localhost:8080/"
        },
        "id": "dtnwCcDIFSmM",
        "outputId": "8b144505-68f2-4117-ec34-b6e10598b392"
      },
      "source": [
        "img_named = img_t.refine_names(..., 'channels', 'rows','columns')\n",
        "batch_named = batch_t.refine_names(..., 'channels', 'rows','columns')\n",
        "print(\"img named: \", img_named.shape, img_named.names)\n",
        "print(\"batch named: \", batch_named.shape, batch_named.names)"
      ],
      "execution_count": null,
      "outputs": [
        {
          "output_type": "stream",
          "text": [
            "img named:  torch.Size([3, 5, 5]) ('channels', 'rows', 'columns')\n",
            "batch named:  torch.Size([2, 3, 5, 5]) (None, 'channels', 'rows', 'columns')\n"
          ],
          "name": "stdout"
        }
      ]
    },
    {
      "cell_type": "code",
      "metadata": {
        "colab": {
          "base_uri": "https://localhost:8080/"
        },
        "id": "jxm2cDoLFwF_",
        "outputId": "7add1957-048f-4adf-daf0-ad62599a0417"
      },
      "source": [
        "weights_aligned = weights_named.align_as(img_named) #he method align_as returns a tensor with missing dimensions added and existing ones permuted to the right order\n",
        "weights_aligned.shape, weights_aligned.names"
      ],
      "execution_count": null,
      "outputs": [
        {
          "output_type": "execute_result",
          "data": {
            "text/plain": [
              "(torch.Size([3, 1, 1]), ('channels', 'rows', 'columns'))"
            ]
          },
          "metadata": {
            "tags": []
          },
          "execution_count": 42
        }
      ]
    },
    {
      "cell_type": "code",
      "metadata": {
        "colab": {
          "base_uri": "https://localhost:8080/"
        },
        "id": "_SkR4zjAGLSB",
        "outputId": "05db2426-83de-4a6e-9dbf-f598ba62bb25"
      },
      "source": [
        "gray_named = (img_named * weights_aligned).sum('channels')\n",
        "gray_named.shape, gray_named.names"
      ],
      "execution_count": null,
      "outputs": [
        {
          "output_type": "execute_result",
          "data": {
            "text/plain": [
              "(torch.Size([5, 5]), ('rows', 'columns'))"
            ]
          },
          "metadata": {
            "tags": []
          },
          "execution_count": 43
        }
      ]
    },
    {
      "cell_type": "code",
      "metadata": {
        "colab": {
          "base_uri": "https://localhost:8080/"
        },
        "id": "ixBFRSavGlN4",
        "outputId": "4db09916-4d13-4039-eda3-1fe45cccece3"
      },
      "source": [
        "gray_plain = gray_named.rename(None)\n",
        "gray_plain.shape, gray_plain.names"
      ],
      "execution_count": null,
      "outputs": [
        {
          "output_type": "execute_result",
          "data": {
            "text/plain": [
              "(torch.Size([5, 5]), (None, None))"
            ]
          },
          "metadata": {
            "tags": []
          },
          "execution_count": 45
        }
      ]
    },
    {
      "cell_type": "code",
      "metadata": {
        "id": "psZROk1_Hklp"
      },
      "source": [
        "#dtype"
      ],
      "execution_count": null,
      "outputs": []
    },
    {
      "cell_type": "code",
      "metadata": {
        "id": "UoCAnF79JTVY"
      },
      "source": [
        "double_points = torch.ones(10,2, dtype = torch.double)\n",
        "short_points = torch.tensor([[1,2],[3,4]], dtype = torch.short)"
      ],
      "execution_count": null,
      "outputs": []
    },
    {
      "cell_type": "code",
      "metadata": {
        "colab": {
          "base_uri": "https://localhost:8080/"
        },
        "id": "U4IAvo_mJtzE",
        "outputId": "b074c0de-61f5-4ffb-91be-cec59be82e03"
      },
      "source": [
        "double_points"
      ],
      "execution_count": null,
      "outputs": [
        {
          "output_type": "execute_result",
          "data": {
            "text/plain": [
              "tensor([[1., 1.],\n",
              "        [1., 1.],\n",
              "        [1., 1.],\n",
              "        [1., 1.],\n",
              "        [1., 1.],\n",
              "        [1., 1.],\n",
              "        [1., 1.],\n",
              "        [1., 1.],\n",
              "        [1., 1.],\n",
              "        [1., 1.]], dtype=torch.float64)"
            ]
          },
          "metadata": {
            "tags": []
          },
          "execution_count": 48
        }
      ]
    },
    {
      "cell_type": "code",
      "metadata": {
        "colab": {
          "base_uri": "https://localhost:8080/"
        },
        "id": "FNh1zdEhJvwU",
        "outputId": "34810d3f-7e6d-41ca-8f0e-5eda9ff67cd4"
      },
      "source": [
        "short_points"
      ],
      "execution_count": null,
      "outputs": [
        {
          "output_type": "execute_result",
          "data": {
            "text/plain": [
              "tensor([[1, 2],\n",
              "        [3, 4]], dtype=torch.int16)"
            ]
          },
          "metadata": {
            "tags": []
          },
          "execution_count": 49
        }
      ]
    },
    {
      "cell_type": "code",
      "metadata": {
        "id": "zmKtqoRgJxON"
      },
      "source": [
        "double_points = torch.zeros(10, 2).double()\n",
        "short_points = torch.ones(10, 2).short()"
      ],
      "execution_count": null,
      "outputs": []
    },
    {
      "cell_type": "code",
      "metadata": {
        "id": "xcZ6OyNpJ8p0"
      },
      "source": [
        "double_points = torch.zeros(10, 2).to(torch.double)    #more convenient method\n",
        "short_points = torch.ones(10, 2).to(dtype=torch.short)"
      ],
      "execution_count": null,
      "outputs": []
    },
    {
      "cell_type": "code",
      "metadata": {
        "colab": {
          "base_uri": "https://localhost:8080/"
        },
        "id": "yN-Pb2NxKDvD",
        "outputId": "ff3ebaa5-4d83-4417-ec26-39f790fdc25e"
      },
      "source": [
        "points_64 = torch.rand(5, dtype=torch.double)   #rand initializes the tensor elements to random numbers between 0 and 1\n",
        "points_short = points_64.to(torch.short)\n",
        "points_64 * points_short # works from PyTorch 1.3 onwards"
      ],
      "execution_count": null,
      "outputs": [
        {
          "output_type": "execute_result",
          "data": {
            "text/plain": [
              "tensor([0., 0., 0., 0., 0.], dtype=torch.float64)"
            ]
          },
          "metadata": {
            "tags": []
          },
          "execution_count": 53
        }
      ]
    },
    {
      "cell_type": "code",
      "metadata": {
        "id": "sdkhUOqsKfla"
      },
      "source": [
        "#tensor API"
      ],
      "execution_count": null,
      "outputs": []
    },
    {
      "cell_type": "code",
      "metadata": {
        "colab": {
          "base_uri": "https://localhost:8080/"
        },
        "id": "61pP9zA8Ki9k",
        "outputId": "4afc9b89-fdcd-4032-c277-65dc7dc3d4fe"
      },
      "source": [
        "a = torch.ones(3,2)\n",
        "a_t = torch.transpose(a,0,1)\n",
        "a.shape, a_t.shape"
      ],
      "execution_count": null,
      "outputs": [
        {
          "output_type": "execute_result",
          "data": {
            "text/plain": [
              "(torch.Size([3, 2]), torch.Size([2, 3]))"
            ]
          },
          "metadata": {
            "tags": []
          },
          "execution_count": 55
        }
      ]
    },
    {
      "cell_type": "code",
      "metadata": {
        "colab": {
          "base_uri": "https://localhost:8080/"
        },
        "id": "XjjoUyTiK69Q",
        "outputId": "e69b6d32-ad6b-45c8-f632-4917daa950ab"
      },
      "source": [
        "a = torch.ones(3,2) \n",
        "a_t = a.transpose(0,1)    #as the method of a tensor\n",
        "a.shape, a_t.shape"
      ],
      "execution_count": null,
      "outputs": [
        {
          "output_type": "execute_result",
          "data": {
            "text/plain": [
              "(torch.Size([3, 2]), torch.Size([2, 3]))"
            ]
          },
          "metadata": {
            "tags": []
          },
          "execution_count": 56
        }
      ]
    },
    {
      "cell_type": "code",
      "metadata": {
        "id": "J6x60fKRLJbl"
      },
      "source": [
        "#indexing into the storage"
      ],
      "execution_count": null,
      "outputs": []
    },
    {
      "cell_type": "code",
      "metadata": {
        "colab": {
          "base_uri": "https://localhost:8080/"
        },
        "id": "T9c4okvVMDM6",
        "outputId": "b8ae666a-3ced-4503-d96e-9a97ddddf660"
      },
      "source": [
        "points = torch.tensor([[4.0, 1.0], [5.0, 3.0], [2.0, 1.0]])\n",
        "points.storage()"
      ],
      "execution_count": null,
      "outputs": [
        {
          "output_type": "execute_result",
          "data": {
            "text/plain": [
              " 4.0\n",
              " 1.0\n",
              " 5.0\n",
              " 3.0\n",
              " 2.0\n",
              " 1.0\n",
              "[torch.FloatStorage of size 6]"
            ]
          },
          "metadata": {
            "tags": []
          },
          "execution_count": 58
        }
      ]
    },
    {
      "cell_type": "code",
      "metadata": {
        "colab": {
          "base_uri": "https://localhost:8080/"
        },
        "id": "0eGn1RE9MFt3",
        "outputId": "16896419-7b29-443c-c20f-20cf0cafc278"
      },
      "source": [
        "points_storage = points.storage()\n",
        "points_storage[0]"
      ],
      "execution_count": null,
      "outputs": [
        {
          "output_type": "execute_result",
          "data": {
            "text/plain": [
              "4.0"
            ]
          },
          "metadata": {
            "tags": []
          },
          "execution_count": 59
        }
      ]
    },
    {
      "cell_type": "code",
      "metadata": {
        "colab": {
          "base_uri": "https://localhost:8080/"
        },
        "id": "m12DZZT1MQi3",
        "outputId": "6d3b84ec-7f60-4e28-c538-79f55fd43297"
      },
      "source": [
        "points.storage()[1]"
      ],
      "execution_count": null,
      "outputs": [
        {
          "output_type": "execute_result",
          "data": {
            "text/plain": [
              "1.0"
            ]
          },
          "metadata": {
            "tags": []
          },
          "execution_count": 60
        }
      ]
    },
    {
      "cell_type": "code",
      "metadata": {
        "id": "5HhPVjvdMTsx"
      },
      "source": [
        "#changing the value of a storage leads to changing the content of its referring tensor"
      ],
      "execution_count": null,
      "outputs": []
    },
    {
      "cell_type": "code",
      "metadata": {
        "colab": {
          "base_uri": "https://localhost:8080/"
        },
        "id": "alMd7JEoMh4P",
        "outputId": "300e6cd5-c320-4302-8cb5-4fbaf8609f1d"
      },
      "source": [
        "points = torch.tensor([[4.0, 1.0],[5.0,3.0],[2.0,1.0]])\n",
        "points_storage = points.storage()\n",
        "points_storage[0] = 2.0\n",
        "points"
      ],
      "execution_count": null,
      "outputs": [
        {
          "output_type": "execute_result",
          "data": {
            "text/plain": [
              "tensor([[2., 1.],\n",
              "        [5., 3.],\n",
              "        [2., 1.]])"
            ]
          },
          "metadata": {
            "tags": []
          },
          "execution_count": 62
        }
      ]
    },
    {
      "cell_type": "code",
      "metadata": {
        "id": "q6QD-luXMvki"
      },
      "source": [
        "#Modifying stored values: In-place operations"
      ],
      "execution_count": null,
      "outputs": []
    },
    {
      "cell_type": "code",
      "metadata": {
        "id": "rUXlpfi2MzZb"
      },
      "source": [
        "a = torch.ones(3,2)"
      ],
      "execution_count": null,
      "outputs": []
    },
    {
      "cell_type": "code",
      "metadata": {
        "colab": {
          "base_uri": "https://localhost:8080/"
        },
        "id": "xPP7CF0bNT-G",
        "outputId": "d904109a-b9b9-4d36-cd1a-b4ce531a167f"
      },
      "source": [
        "a.zero_()"
      ],
      "execution_count": null,
      "outputs": [
        {
          "output_type": "execute_result",
          "data": {
            "text/plain": [
              "tensor([[0., 0.],\n",
              "        [0., 0.],\n",
              "        [0., 0.]])"
            ]
          },
          "metadata": {
            "tags": []
          },
          "execution_count": 65
        }
      ]
    },
    {
      "cell_type": "code",
      "metadata": {
        "id": "kPyuSEqNNVT-"
      },
      "source": [
        "#Tensor metadata: Size, offset, and stride"
      ],
      "execution_count": null,
      "outputs": []
    },
    {
      "cell_type": "code",
      "metadata": {
        "colab": {
          "base_uri": "https://localhost:8080/"
        },
        "id": "vwkt5FjGNYiy",
        "outputId": "0a6e730e-a2e7-4d45-99c0-4912ecb1428f"
      },
      "source": [
        "points = torch.tensor([[4.0, 1.0], [5.0, 3.0], [2.0, 1.0]])\n",
        "second_point = points[1]\n",
        "second_point.storage_offset()"
      ],
      "execution_count": null,
      "outputs": [
        {
          "output_type": "execute_result",
          "data": {
            "text/plain": [
              "2"
            ]
          },
          "metadata": {
            "tags": []
          },
          "execution_count": 67
        }
      ]
    },
    {
      "cell_type": "code",
      "metadata": {
        "colab": {
          "base_uri": "https://localhost:8080/"
        },
        "id": "rqM95UMqN0a6",
        "outputId": "c5c99400-0910-47c5-b026-f1f87defbce7"
      },
      "source": [
        "second_point.size()"
      ],
      "execution_count": null,
      "outputs": [
        {
          "output_type": "execute_result",
          "data": {
            "text/plain": [
              "torch.Size([2])"
            ]
          },
          "metadata": {
            "tags": []
          },
          "execution_count": 68
        }
      ]
    },
    {
      "cell_type": "code",
      "metadata": {
        "colab": {
          "base_uri": "https://localhost:8080/"
        },
        "id": "vrHq4nKyN5H6",
        "outputId": "3bab46fb-545c-43c8-9fb5-14edb729b360"
      },
      "source": [
        "second_point.shape"
      ],
      "execution_count": null,
      "outputs": [
        {
          "output_type": "execute_result",
          "data": {
            "text/plain": [
              "torch.Size([2])"
            ]
          },
          "metadata": {
            "tags": []
          },
          "execution_count": 69
        }
      ]
    },
    {
      "cell_type": "code",
      "metadata": {
        "id": "KhrU_FHxOA2k"
      },
      "source": [
        "#The stride is a tuple indicating the number of elements in the storage that have to be skipped when the index is increased by 1 in each dimension"
      ],
      "execution_count": null,
      "outputs": []
    },
    {
      "cell_type": "code",
      "metadata": {
        "colab": {
          "base_uri": "https://localhost:8080/"
        },
        "id": "fugQs7pyOJ1B",
        "outputId": "dfe245d1-3373-4568-f2dd-18e6ba516985"
      },
      "source": [
        "points.stride()"
      ],
      "execution_count": null,
      "outputs": [
        {
          "output_type": "execute_result",
          "data": {
            "text/plain": [
              "(2, 1)"
            ]
          },
          "metadata": {
            "tags": []
          },
          "execution_count": 71
        }
      ]
    },
    {
      "cell_type": "code",
      "metadata": {
        "colab": {
          "base_uri": "https://localhost:8080/"
        },
        "id": "RrnT-PorOMWS",
        "outputId": "35fc4de4-a7cb-4e02-a0ea-648b27b9ea84"
      },
      "source": [
        "second_point.stride()"
      ],
      "execution_count": null,
      "outputs": [
        {
          "output_type": "execute_result",
          "data": {
            "text/plain": [
              "(1,)"
            ]
          },
          "metadata": {
            "tags": []
          },
          "execution_count": 72
        }
      ]
    },
    {
      "cell_type": "code",
      "metadata": {
        "id": "KtJ3EFJaOpUe"
      },
      "source": [
        ""
      ],
      "execution_count": null,
      "outputs": []
    }
  ]
}